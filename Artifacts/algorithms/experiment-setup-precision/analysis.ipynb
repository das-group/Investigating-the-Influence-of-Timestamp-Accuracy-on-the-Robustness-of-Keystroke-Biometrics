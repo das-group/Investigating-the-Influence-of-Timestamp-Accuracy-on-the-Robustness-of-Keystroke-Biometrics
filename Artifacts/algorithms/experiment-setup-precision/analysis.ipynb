{
 "cells": [
  {
   "cell_type": "code",
   "execution_count": null,
   "metadata": {},
   "outputs": [],
   "source": [
    "# imports/config\n",
    "import pandas as pd\n",
    "import numpy as np\n",
    "import matplotlib.pyplot as plt\n",
    "from matplotlib.patches import Rectangle\n",
    "\n",
    "plt.rcParams['figure.figsize'] = [20, 12]"
   ]
  },
  {
   "cell_type": "code",
   "execution_count": null,
   "metadata": {},
   "outputs": [],
   "source": [
    "def reject_outliers(data, lower=.01, upper=.025):\n",
    "    data.sort()\n",
    "    l = len(data)\n",
    "    upper = int(l * upper)\n",
    "    lower = int(l * lower)\n",
    "    return data[lower:-upper]"
   ]
  },
  {
   "cell_type": "code",
   "execution_count": null,
   "metadata": {},
   "outputs": [],
   "source": [
    "# calc\n",
    "def calc(data: pd.DataFrame, has_isolated = True, isolated_col = 'browser_isolated', unisolated_col = 'browser_unisolated', \n",
    "         lower=.01, upper=.025, filter: bool = True):\n",
    "\n",
    "    if has_isolated:\n",
    "        isolated = (np.array(data[isolated_col].to_list())).round(3)\n",
    "        if filter:\n",
    "            isolated = reject_outliers(isolated,lower=lower,upper=upper)\n",
    "\n",
    "        min_isolated = round(isolated.min(), 3)\n",
    "        max_isolated = round(isolated.max(), 3)\n",
    "        mean_isolated = round(isolated.mean(), 3)\n",
    "        std_isolated = round(isolated.std(), 3)\n",
    "        uniques_isolated = np.unique(isolated)\n",
    "\n",
    "        print(\"Isolated\")\n",
    "        print(f\"Isolated min      : {min_isolated:.3f}\")\n",
    "        print(f\"Isolated max      : {max_isolated:.3f}\")\n",
    "        print(f\"Isolated mean     : {mean_isolated:.3f}\")\n",
    "        print(f\"Isolated std      : {std_isolated:.3f}\")\n",
    "        print(f\"Isolated uniques  : {len(uniques_isolated)}\")\n",
    "        print(\"\")\n",
    "\n",
    "    unisolated = (np.array(data[unisolated_col].to_list())).round(3)\n",
    "    if filter:\n",
    "        unisolated = reject_outliers(unisolated,lower=lower,upper=upper)\n",
    "    \n",
    "    min_unisolated = round(unisolated.min(), 3)\n",
    "    max_unisolated = round(unisolated.max(), 3)\n",
    "    mean_unisolated = round(unisolated.mean(), 3)\n",
    "    std_unisolated = round(unisolated.std(), 3)\n",
    "    uniques_unisolated = np.unique(unisolated)\n",
    "\n",
    "    print(\"Unisolated\")\n",
    "    print(f\"Unisolated min    : {min_unisolated:.3f}\")\n",
    "    print(f\"Unisolated max    : {max_unisolated:.3f}\")\n",
    "    print(f\"Unisolated mean   : {mean_unisolated:.3f}\")\n",
    "    print(f\"Unisolated std    : {std_unisolated:.3f}\")\n",
    "    print(f\"Unisolated uniques: {len(uniques_unisolated)}\")"
   ]
  },
  {
   "cell_type": "code",
   "execution_count": null,
   "metadata": {},
   "outputs": [],
   "source": [
    "# chromium\n",
    "chromium = pd.read_csv(\"./chromium/complete.csv\", skiprows=[1,2,3,4,5,6,7,8,9,10])\n",
    "calc(chromium)"
   ]
  },
  {
   "cell_type": "code",
   "execution_count": null,
   "metadata": {},
   "outputs": [],
   "source": [
    "# chrome\n",
    "chrome = pd.read_csv(\"./chrome/complete.csv\", skiprows=[1,2,3,4,5,6,7,8,9,10])\n",
    "calc(chrome)"
   ]
  },
  {
   "cell_type": "code",
   "execution_count": null,
   "metadata": {},
   "outputs": [],
   "source": [
    "# edge\n",
    "edge = pd.read_csv(\"./edge/complete.csv\", skiprows=[1,2,3,4,5,6,7,8,9,10])\n",
    "calc(edge)"
   ]
  },
  {
   "cell_type": "code",
   "execution_count": null,
   "metadata": {},
   "outputs": [],
   "source": [
    "# firefox\n",
    "firefox = pd.read_csv(\"./firefox/complete.csv\", skiprows=[1,2,3,4,5,6,7,8,9,10])\n",
    "calc(firefox)"
   ]
  },
  {
   "cell_type": "code",
   "execution_count": null,
   "metadata": {},
   "outputs": [],
   "source": [
    "# tor\n",
    "tor = pd.read_csv(\"./tor/complete.csv\", skiprows=[1,2,3,4,5,6,7,8,9,10])\n",
    "calc(tor, False)"
   ]
  },
  {
   "cell_type": "code",
   "execution_count": null,
   "metadata": {},
   "outputs": [],
   "source": [
    "# safari\n",
    "safari = pd.read_csv(\"./safari/complete.csv\", skiprows=[1,2,3,4,5,6,7,8,9,10])\n",
    "calc(safari, upper=0.01)"
   ]
  },
  {
   "cell_type": "code",
   "execution_count": 73,
   "metadata": {},
   "outputs": [],
   "source": [
    "# firefox mac\n",
    "safari = pd.read_csv(\"./firefox_mac/complete.csv\", skiprows=[1,2,3,4,5,6,7,8,9])"
   ]
  },
  {
   "cell_type": "code",
   "execution_count": null,
   "metadata": {},
   "outputs": [],
   "source": [
    "# firefox NJ\n",
    "firefox_NJ = pd.read_csv(\"./firefox_NJ/complete.csv\", skiprows=[1,2,3,4,5,6,7,8,9,10])\n",
    "calc(firefox_NJ, isolated_col='browser_isolated', unisolated_col='browser_unisolated', filter=False)"
   ]
  },
  {
   "cell_type": "code",
   "execution_count": null,
   "metadata": {},
   "outputs": [],
   "source": [
    "# firefox rf\n",
    "firefox_RF = pd.read_csv(\"./firefox_rf/complete.csv\", skiprows=[1,2,3,4,5,6,7,8,9,10])\n",
    "calc(firefox_RF, False, unisolated_col='unisolated_resist', filter=False)"
   ]
  },
  {
   "cell_type": "code",
   "execution_count": null,
   "metadata": {},
   "outputs": [],
   "source": [
    "# firefox rf 20ms\n",
    "firefox_RF = pd.read_csv(\"./firefox_rf/complete.csv\", skiprows=[1,2,3,4,5,6,7,8,9,10])\n",
    "calc(firefox_RF, False, unisolated_col='unisolated_resist_20ms', filter=False)"
   ]
  },
  {
   "cell_type": "code",
   "execution_count": null,
   "metadata": {},
   "outputs": [],
   "source": [
    "# firefox rf 33ms\n",
    "firefox_RF = pd.read_csv(\"./firefox_rf/complete.csv\", skiprows=[1,2,3,4,5,6,7,8,9,10])\n",
    "calc(firefox_RF, False, unisolated_col='unisolated_resist_33ms', filter=False)"
   ]
  },
  {
   "cell_type": "code",
   "execution_count": null,
   "metadata": {},
   "outputs": [],
   "source": [
    "# firefox rf 40ms\n",
    "firefox_RF = pd.read_csv(\"./firefox_rf/complete.csv\", skiprows=[1,2,3,4,5,6,7,8,9,10])\n",
    "calc(firefox_RF, False, unisolated_col='unisolated_resist_40ms', filter=False)"
   ]
  },
  {
   "cell_type": "code",
   "execution_count": null,
   "metadata": {},
   "outputs": [],
   "source": [
    "# firefox rf 60ms\n",
    "firefox_RF = pd.read_csv(\"./firefox_rf/complete.csv\", skiprows=[1,2,3,4,5,6,7,8,9,10])\n",
    "calc(firefox_RF, False, unisolated_col='unisolated_resist_60ms', filter=False)"
   ]
  },
  {
   "cell_type": "code",
   "execution_count": null,
   "metadata": {},
   "outputs": [],
   "source": [
    "# firefox rf 80ms\n",
    "firefox_RF = pd.read_csv(\"./firefox_rf/complete.csv\", skiprows=[1,2,3,4,5,6,7,8,9,10])\n",
    "calc(firefox_RF, False, isolated_col='isolated_resist_80ms', unisolated_col='unisolated_resist_80ms', filter=False)"
   ]
  },
  {
   "cell_type": "code",
   "execution_count": null,
   "metadata": {},
   "outputs": [],
   "source": [
    "# firefox rf 100ms\n",
    "firefox_RF = pd.read_csv(\"./firefox_rf/complete.csv\", skiprows=[1,2,3,4,5,6,7,8,9,10])\n",
    "calc(firefox_RF, False, unisolated_col='unisolated_resist_100ms', filter=False)"
   ]
  },
  {
   "cell_type": "code",
   "execution_count": null,
   "metadata": {},
   "outputs": [],
   "source": [
    "# firefox rf 120ms\n",
    "firefox_RF = pd.read_csv(\"./firefox_rf/complete.csv\", skiprows=[1,2,3,4,5,6,7,8,9,10])\n",
    "calc(firefox_RF, False, unisolated_col='unisolated_resist_120ms', filter=False)"
   ]
  },
  {
   "cell_type": "code",
   "execution_count": null,
   "metadata": {},
   "outputs": [],
   "source": [
    "# firefox rf 140ms\n",
    "firefox_RF = pd.read_csv(\"./firefox_rf/complete.csv\", skiprows=[1,2,3,4,5,6,7,8,9,10])\n",
    "calc(firefox_RF, False, unisolated_col='unisolated_resist_140ms', filter=False)"
   ]
  },
  {
   "cell_type": "code",
   "execution_count": null,
   "metadata": {},
   "outputs": [],
   "source": [
    "# firefox rf 160ms\n",
    "firefox_RF = pd.read_csv(\"./firefox_rf/complete.csv\", skiprows=[1,2,3,4,5,6,7,8,9,10])\n",
    "calc(firefox_RF, False, unisolated_col='unisolated_resist_160ms', filter=False)"
   ]
  },
  {
   "cell_type": "code",
   "execution_count": null,
   "metadata": {},
   "outputs": [],
   "source": [
    "# firefox rf 180ms\n",
    "firefox_RF = pd.read_csv(\"./firefox_rf/complete.csv\", skiprows=[1,2,3,4,5,6,7,8,9,10])\n",
    "calc(firefox_RF, False, unisolated_col='unisolated_resist_180ms', filter=False)"
   ]
  },
  {
   "cell_type": "code",
   "execution_count": null,
   "metadata": {},
   "outputs": [],
   "source": [
    "# firefox rf 200ms\n",
    "firefox_RF = pd.read_csv(\"./firefox_rf/complete.csv\", skiprows=[1,2,3,4,5,6,7,8,9,10])\n",
    "calc(firefox_RF, False, unisolated_col='unisolated_resist_200ms', filter=False)"
   ]
  },
  {
   "cell_type": "code",
   "execution_count": null,
   "metadata": {},
   "outputs": [],
   "source": [
    "# firefox rf NJ\n",
    "firefox = pd.read_csv(\"./firefox/complete.csv\", skiprows=[1,2,3,4,5,6,7,8,9,10])\n",
    "firefox_RF_NJ = pd.read_csv(\"./firefox_rf_NJ/complete.csv\", skiprows=[1,2,3,4,5,6,7,8,9,10])\n",
    "calc(firefox_RF_NJ, False, unisolated_col='unisolated_resist_NJ', filter=False)"
   ]
  },
  {
   "cell_type": "code",
   "execution_count": null,
   "metadata": {},
   "outputs": [],
   "source": [
    "# firefox rf 20ms NJ\n",
    "firefox = pd.read_csv(\"./firefox/complete.csv\", skiprows=[1,2,3,4,5,6,7,8,9,10])\n",
    "firefox_RF_20_NJ = pd.read_csv(\"./firefox_rf_NJ/complete.csv\", skiprows=[1,2,3,4,5,6,7,8,9,10])\n",
    "calc(firefox_RF_20_NJ, False, unisolated_col='unisolated_resist_20ms_NJ', filter=False)"
   ]
  },
  {
   "cell_type": "code",
   "execution_count": null,
   "metadata": {},
   "outputs": [],
   "source": [
    "# firefox rf 33ms NJ\n",
    "firefox = pd.read_csv(\"./firefox/complete.csv\", skiprows=[1,2,3,4,5,6,7,8,9,10])\n",
    "firefox_RF_33_NJ = pd.read_csv(\"./firefox_rf_NJ/complete.csv\", skiprows=[1,2,3,4,5,6,7,8,9,10])\n",
    "calc(firefox_RF_33_NJ, False, unisolated_col='unisolated_resist_33ms_NJ', filter=False)"
   ]
  },
  {
   "cell_type": "code",
   "execution_count": null,
   "metadata": {},
   "outputs": [],
   "source": [
    "# firefox rf 40ms NJ\n",
    "firefox = pd.read_csv(\"./firefox/complete.csv\", skiprows=[1,2,3,4,5,6,7,8,9,10])\n",
    "firefox_RF_40_NJ = pd.read_csv(\"./firefox_rf_NJ/complete.csv\", skiprows=[1,2,3,4,5,6,7,8,9,10])\n",
    "calc(firefox_RF_40_NJ, False, unisolated_col='unisolated_resist_40ms_NJ', filter=False)"
   ]
  },
  {
   "cell_type": "code",
   "execution_count": null,
   "metadata": {},
   "outputs": [],
   "source": [
    "# firefox rf 60ms NJ\n",
    "firefox = pd.read_csv(\"./firefox/complete.csv\", skiprows=[1,2,3,4,5,6,7,8,9,10])\n",
    "firefox_RF_60_NJ = pd.read_csv(\"./firefox_rf_NJ/complete.csv\", skiprows=[1,2,3,4,5,6,7,8,9,10])\n",
    "calc(firefox_RF_60_NJ, False, unisolated_col='unisolated_resist_60ms_NJ', filter=False)"
   ]
  },
  {
   "cell_type": "code",
   "execution_count": null,
   "metadata": {},
   "outputs": [],
   "source": [
    "# firefox rf 80ms NJ\n",
    "firefox = pd.read_csv(\"./firefox/complete.csv\", skiprows=[1,2,3,4,5,6,7,8,9,10])\n",
    "firefox_RF_80_NJ = pd.read_csv(\"./firefox_rf_NJ/complete.csv\", skiprows=[1,2,3,4,5,6,7,8,9,10])\n",
    "calc(firefox_RF_80_NJ, False, unisolated_col='unisolated_resist_80ms_NJ', filter=False)"
   ]
  },
  {
   "cell_type": "code",
   "execution_count": null,
   "metadata": {},
   "outputs": [],
   "source": [
    "# firefox rf 100ms NJ\n",
    "firefox = pd.read_csv(\"./firefox/complete.csv\", skiprows=[1,2,3,4,5,6,7,8,9,10])\n",
    "firefox_RF_100_NJ = pd.read_csv(\"./firefox_rf_NJ/complete.csv\", skiprows=[1,2,3,4,5,6,7,8,9,10])\n",
    "calc(firefox_RF_100_NJ, False, unisolated_col='unisolated_resist_100ms_NJ', filter=False)"
   ]
  },
  {
   "cell_type": "code",
   "execution_count": null,
   "metadata": {},
   "outputs": [],
   "source": [
    "# firefox rf 120ms NJ\n",
    "firefox = pd.read_csv(\"./firefox/complete.csv\", skiprows=[1,2,3,4,5,6,7,8,9,10])\n",
    "firefox_RF_120_NJ = pd.read_csv(\"./firefox_rf_NJ/complete.csv\", skiprows=[1,2,3,4,5,6,7,8,9,10])\n",
    "calc(firefox_RF_120_NJ, False, unisolated_col='unisolated_resist_120ms_NJ', filter=False)"
   ]
  },
  {
   "cell_type": "code",
   "execution_count": null,
   "metadata": {},
   "outputs": [],
   "source": [
    "# firefox rf 140ms NJ\n",
    "firefox = pd.read_csv(\"./firefox/complete.csv\", skiprows=[1,2,3,4,5,6,7,8,9,10])\n",
    "firefox_RF_140_NJ = pd.read_csv(\"./firefox_rf_NJ/complete.csv\", skiprows=[1,2,3,4,5,6,7,8,9,10])\n",
    "calc(firefox_RF_140_NJ, False, unisolated_col='unisolated_resist_140ms_NJ', filter=False)"
   ]
  },
  {
   "cell_type": "code",
   "execution_count": null,
   "metadata": {},
   "outputs": [],
   "source": [
    "# firefox rf 160ms NJ\n",
    "firefox = pd.read_csv(\"./firefox/complete.csv\", skiprows=[1,2,3,4,5,6,7,8,9,10])\n",
    "firefox_RF_160_NJ = pd.read_csv(\"./firefox_rf_NJ/complete.csv\", skiprows=[1,2,3,4,5,6,7,8,9,10])\n",
    "calc(firefox_RF_160_NJ, False, unisolated_col='unisolated_resist_160ms_NJ', filter=False)"
   ]
  },
  {
   "cell_type": "code",
   "execution_count": null,
   "metadata": {},
   "outputs": [],
   "source": [
    "# firefox rf 180ms NJ\n",
    "firefox = pd.read_csv(\"./firefox/complete.csv\", skiprows=[1,2,3,4,5,6,7,8,9,10])\n",
    "firefox_RF_180_NJ = pd.read_csv(\"./firefox_rf_NJ/complete.csv\", skiprows=[1,2,3,4,5,6,7,8,9,10])\n",
    "calc(firefox_RF_180_NJ, False, unisolated_col='unisolated_resist_180ms_NJ', filter=False)"
   ]
  },
  {
   "cell_type": "code",
   "execution_count": null,
   "metadata": {},
   "outputs": [],
   "source": [
    "# firefox rf 200ms NJ\n",
    "firefox = pd.read_csv(\"./firefox/complete.csv\", skiprows=[1,2,3,4,5,6,7,8,9,10])\n",
    "firefox_RF_200_NJ = pd.read_csv(\"./firefox_rf_NJ/complete.csv\", skiprows=[1,2,3,4,5,6,7,8,9,10])\n",
    "calc(firefox_RF_200_NJ, False, unisolated_col='unisolated_resist_200ms_NJ', filter=False)"
   ]
  }
 ],
 "metadata": {
  "kernelspec": {
   "display_name": "Python 3",
   "language": "python",
   "name": "python3"
  },
  "language_info": {
   "codemirror_mode": {
    "name": "ipython",
    "version": 3
   },
   "file_extension": ".py",
   "mimetype": "text/x-python",
   "name": "python",
   "nbconvert_exporter": "python",
   "pygments_lexer": "ipython3",
   "version": "3.12.0"
  },
  "orig_nbformat": 4
 },
 "nbformat": 4,
 "nbformat_minor": 2
}
